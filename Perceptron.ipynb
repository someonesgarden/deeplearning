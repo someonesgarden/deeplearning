{
 "cells": [
  {
   "cell_type": "code",
   "execution_count": 131,
   "metadata": {},
   "outputs": [],
   "source": [
    "import numpy as np\n",
    "from matplotlib import pyplot as plt\n",
    "%matplotlib inline\n",
    "\n",
    "# 乱数を固定\n",
    "rng = np.random.RandomState(123)\n",
    "\n",
    "d = 2 # Data Dimension\n",
    "N = 10 # Data Numbers\n",
    "mean = 5 # ニューロンが発火するデータの平均値\n",
    "\n",
    "x1 = rng.randn(N, d) + np.array([0,0])\n",
    "x2 = rng.randn(N, d) + np.array([mean,mean])\n",
    "x  = np.concatenate([x1,x2],axis=0)"
   ]
  },
  {
   "cell_type": "code",
   "execution_count": 132,
   "metadata": {
    "collapsed": true
   },
   "outputs": [],
   "source": [
    "w = np.zeros(d)\n",
    "b = 0"
   ]
  },
  {
   "cell_type": "code",
   "execution_count": 141,
   "metadata": {
    "collapsed": true
   },
   "outputs": [],
   "source": [
    "def y(x):\n",
    "    return step(np.dot(w,x)+b)\n",
    "\n",
    "def step(x):\n",
    "    return 1 * (x > 0)\n"
   ]
  },
  {
   "cell_type": "code",
   "execution_count": 142,
   "metadata": {
    "collapsed": true
   },
   "outputs": [],
   "source": [
    "def t(i):\n",
    "    if i< N:\n",
    "        return 0\n",
    "    else : \n",
    "        return 1"
   ]
  },
  {
   "cell_type": "code",
   "execution_count": 143,
   "metadata": {},
   "outputs": [
    {
     "name": "stdout",
     "output_type": "stream",
     "text": [
      "finish\n"
     ]
    }
   ],
   "source": [
    "while True:\n",
    "    classified = True\n",
    "    for i in range(N*2):\n",
    "        delta_w = (t(i)-y(x[i])) * x[i]\n",
    "        delta_b = (t(i)-y(x[i]))\n",
    "        w += delta_w\n",
    "        b += delta_b\n",
    "        classified *=all(delta_w==0) * (delta_b==0)\n",
    "        \n",
    "    if classified:\n",
    "        print(\"finish\")\n",
    "        break"
   ]
  },
  {
   "cell_type": "code",
   "execution_count": 144,
   "metadata": {},
   "outputs": [
    {
     "data": {
      "text/plain": [
       "(-8, 12)"
      ]
     },
     "execution_count": 144,
     "metadata": {},
     "output_type": "execute_result"
    },
    {
     "data": {
      "image/png": "[encoded data removed]",
      "text/plain": [
       "<matplotlib.figure.Figure at 0x26bf725c438>"
      ]
     },
     "metadata": {},
     "output_type": "display_data"
    }
   ],
   "source": [
    "plt.scatter(x[:10,0],x[:10,1], color=\"red\", marker=\"o\",label=\"1st\")\n",
    "plt.scatter(x[10:,0],x[10:,1], color=\"blue\", marker=\"x\",label=\"2nd\")\n",
    "plt.legend(loc=\"upper left\")\n",
    "xrange=np.arange(-10,10)\n",
    "yrange = (-w[0]*xrange-b)/w[1]\n",
    "plt.plot(xrange,yrange)\n",
    "plt.xlim([-5,8])\n",
    "plt.ylim([-8,12])"
   ]
  },
  {
   "cell_type": "code",
   "execution_count": 146,
   "metadata": {},
   "outputs": [
    {
     "name": "stdout",
     "output_type": "stream",
     "text": [
      "0\n",
      "1\n"
     ]
    }
   ],
   "source": [
    "print(y([0,0]))\n",
    "print(y([5,5]))"
   ]
  },
  {
   "cell_type": "code",
   "execution_count": null,
   "metadata": {
    "collapsed": true
   },
   "outputs": [],
   "source": []
  },
  {
   "cell_type": "code",
   "execution_count": null,
   "metadata": {
    "collapsed": true
   },
   "outputs": [],
   "source": []
  }
 ],
 "metadata": {
  "kernelspec": {
   "display_name": "Python 3",
   "language": "python",
   "name": "python3"
  },
  "language_info": {
   "codemirror_mode": {
    "name": "ipython",
    "version": 3
   },
   "file_extension": ".py",
   "mimetype": "text/x-python",
   "name": "python",
   "nbconvert_exporter": "python",
   "pygments_lexer": "ipython3",
   "version": "3.6.1"
  }
 },
 "nbformat": 4,
 "nbformat_minor": 2
}
